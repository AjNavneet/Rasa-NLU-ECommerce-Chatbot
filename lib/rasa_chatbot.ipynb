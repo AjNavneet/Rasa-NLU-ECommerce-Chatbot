{
  "cells": [
    {
      "cell_type": "code",
      "execution_count": null,
      "metadata": {
        "id": "y9PDMvlXjsC0"
      },
      "outputs": [],
      "source": [
        "## https://aspiresoftware.in/blog/rasa-nlu-intent-classification-using-different-pipeline/"
      ]
    },
    {
      "cell_type": "code",
      "execution_count": 1,
      "metadata": {
        "id": "DY6DV2zSjsC6"
      },
      "outputs": [],
      "source": [
        "# Import the required libraries\n",
        "import os\n",
        "import pandas as pd\n",
        "import matplotlib.pyplot as plt\n",
        "from rasa_nlu.model import Trainer\n",
        "from rasa_nlu.test import run_evaluation\n",
        "from rasa_nlu import config\n",
        "from rasa_nlu.training_data import load_data\n",
        "import random\n",
        "import time\n",
        "\n",
        "import sys\n",
        "import spacy\n",
        "import sys\n",
        "import warnings\n",
        "warnings.filterwarnings(\"ignore\")\n",
        "import tensorflow"
      ]
    },
    {
      "cell_type": "code",
      "execution_count": 1,
      "metadata": {
        "id": "gm0Z-lscjsC8"
      },
      "outputs": [],
      "source": [
        "!python -m spacy download en_core_web_sm"
      ]
    },
    {
      "cell_type": "code",
      "execution_count": 2,
      "metadata": {},
      "outputs": [],
      "source": [
        "nlp = spacy.load(\"en_core_web_sm\")"
      ]
    },
    {
      "cell_type": "code",
      "execution_count": 7,
      "metadata": {
        "id": "e72V_O2fjsC9"
      },
      "outputs": [],
      "source": [
        "# Importing the data\n",
        "data = \"./data/data.json\""
      ]
    },
    {
      "cell_type": "code",
      "execution_count": 9,
      "metadata": {
        "id": "lVI64vWKjsC9",
        "tags": []
      },
      "outputs": [],
      "source": [
        "initial_data = pd.read_json(data)"
      ]
    },
    {
      "cell_type": "code",
      "execution_count": 10,
      "metadata": {
        "id": "z4LvdxoWjsC9"
      },
      "outputs": [],
      "source": [
        "def select_examples(initial_data, nb_of_examples):\n",
        "    \"\"\"\n",
        "    Select training and testing examples from Rasa NLU data based on the specified number of examples.\n",
        "\n",
        "    :param initial_data: Rasa NLU data\n",
        "    :param nb_of_examples: Number of examples to use as a threshold for data splitting\n",
        "    :return: Training and testing dataframes after splitting the initial data\n",
        "    \"\"\"\n",
        "\n",
        "    # If the specified number of examples is greater than the available examples, adjust it.\n",
        "    if nb_of_examples > len(initial_data[\"rasa_nlu_data\"][\"common_examples\"]):\n",
        "        nb_of_examples = len(initial_data[\"rasa_nlu_data\"][\"common_examples\"])\n",
        "\n",
        "    training_examples_list = []\n",
        "    test_examples_list = []\n",
        "    training_df = initial_data.copy()\n",
        "    test_df = initial_data.copy()\n",
        "\n",
        "    # Create a DataFrame from the common examples in the initial data\n",
        "    examples_df = pd.DataFrame.from_records(initial_data[\"rasa_nlu_data\"][\"common_examples\"])\n",
        "    \n",
        "    # Calculate the distribution of examples per intent\n",
        "    serie_distOfExamples = examples_df[\"intent\"].value_counts() / len(examples_df)\n",
        "    \n",
        "    for intent in serie_distOfExamples.index.values:\n",
        "        n = int(serie_distOfExamples[intent] * nb_of_examples)\n",
        "        l = examples_df[examples_df[\"intent\"] == intent].index.values\n",
        "        \n",
        "        # Sample examples for training and testing\n",
        "        examples_samp = random.sample(list(l), n)\n",
        "        training_examples_ids = random.sample(examples_samp, int(n * 0.8))\n",
        "        \n",
        "        for ex_id in training_examples_ids:\n",
        "            examples_samp.remove(ex_id)\n",
        "        \n",
        "        for index_train in training_examples_ids:\n",
        "            training_examples_list.append(initial_data[\"rasa_nlu_data\"][\"common_examples\"][index_train])\n",
        "        \n",
        "        for index_test in examples_samp:\n",
        "            test_examples_list.append(initial_data[\"rasa_nlu_data\"][\"common_examples\"][index_test])\n",
        "            \n",
        "    training_df[\"rasa_nlu_data\"][\"common_examples\"] = training_examples_list\n",
        "    test_df[\"rasa_nlu_data\"][\"common_examples\"] = test_examples_list\n",
        "\n",
        "    return training_df, test_df\n"
      ]
    },
    {
      "cell_type": "code",
      "execution_count": 11,
      "metadata": {
        "id": "0-XdeSt0jsC9"
      },
      "outputs": [],
      "source": [
        "def construct_jsonExampleFile(training_df, test_df, initial_data):\n",
        "    \"\"\"\n",
        "    Write training and testing dataframes to JSON files.\n",
        "\n",
        "    :param training_df: Training dataframe to be saved as JSON.\n",
        "    :param test_df: Testing dataframe to be saved as JSON.\n",
        "    :param initial_data: Original data (not used for writing JSON).\n",
        "    :return: None\n",
        "    \"\"\"\n",
        "    # Write the training dataframe to a JSON file in the 'data' directory\n",
        "    training_df.to_json('./data/training_data.json')\n",
        "\n",
        "    # Write the testing dataframe to a JSON file in the 'data' directory\n",
        "    test_df.to_json('./data/test_data.json')\n"
      ]
    },
    {
      "cell_type": "code",
      "execution_count": 12,
      "metadata": {
        "id": "iNqNsAidjsC9"
      },
      "outputs": [],
      "source": [
        "import matplotlib.pyplot as plt\n",
        "\n",
        "def examplesDist_plot(log_pd):\n",
        "    \"\"\"\n",
        "    Create a bar plot to visualize the distribution of examples per intent.\n",
        "\n",
        "    :param log_pd: Data in the format of Rasa NLU data.\n",
        "    :return: None\n",
        "    \"\"\"\n",
        "    # Calculate the count of examples per intent\n",
        "    percent = pd.DataFrame.from_records(log_pd[\"rasa_nlu_data\"][\"common_examples\"])[\"intent\"].value_counts()\n",
        "\n",
        "    # Create a bar plot with the specified figure size\n",
        "    percent.plot(kind='bar', figsize=(10, 8))\n",
        "\n",
        "    # Set labels and title for the plot\n",
        "    plt.ylabel(\"Number of examples per intent\")\n",
        "    plt.xlabel(\"Intents\")\n",
        "    plt.title(\"Number of examples per intent\")\n",
        "\n",
        "    # Display the plot\n",
        "    plt.show()\n"
      ]
    },
    {
      "cell_type": "code",
      "execution_count": 13,
      "metadata": {
        "id": "6L6VNW4RjsC-"
      },
      "outputs": [],
      "source": [
        "# Select 1000 examples from the initial_data for training and testing\n",
        "train, test = select_examples(initial_data, 1000)\n",
        "\n",
        "# Construct a JSON example file using the selected training and testing data\n",
        "construct_jsonExampleFile(train, test, initial_data)\n"
      ]
    },
    {
      "cell_type": "code",
      "execution_count": 14,
      "metadata": {
        "id": "5dWmIUcNjsC-",
        "outputId": "041e8f78-4eb2-4505-99d5-ae50e7452705"
      },
      "outputs": [
        {
          "data": {
            "image/png": "[encoded data removed]",
            "text/plain": [
              "<Figure size 720x576 with 1 Axes>"
            ]
          },
          "metadata": {
            "needs_background": "light"
          },
          "output_type": "display_data"
        }
      ],
      "source": [
        "# Read the training data from a JSON file located at \"data/training_data.json\"\n",
        "training_data = pd.read_json(\"data/training_data.json\")\n",
        "\n",
        "# Generate a distribution plot of examples within the training data\n",
        "examplesDist_plot(training_data)\n"
      ]
    },
    {
      "cell_type": "code",
      "execution_count": 15,
      "metadata": {
        "id": "B321qd8TjsC-"
      },
      "outputs": [],
      "source": [
        "def trainModel(pipeline, model_dir):\n",
        "    \"\"\"\n",
        "    Train a model using the provided pipeline configuration and save it to the specified directory.\n",
        "\n",
        "    :param pipeline: Path to the pipeline configuration to be loaded as the config in the Trainer.\n",
        "    :param model_dir: Directory where the trained model will be stored after training.\n",
        "    :return: The model directory where the trained model has been saved.\n",
        "    \"\"\"\n",
        "    # Load the training data from a JSON file\n",
        "    path_to_data = \"./data/training_data.json\"\n",
        "    training_data = load_data(path_to_data)\n",
        "\n",
        "    # Create a Trainer using the specified pipeline configuration\n",
        "    trainer = Trainer(config.load(pipeline))\n",
        "\n",
        "    # Train the model using the training data\n",
        "    interpreter = trainer.train(training_data)\n",
        "\n",
        "    # Define the path to save the trained model\n",
        "    path_to_model = \"./models/current/\" + model_dir\n",
        "\n",
        "    # Persist and save the trained model to the specified model directory\n",
        "    model_directory = trainer.persist(path_to_model)\n",
        "\n",
        "    # Return the directory where the trained model has been saved\n",
        "    return model_directory\n"
      ]
    },
    {
      "cell_type": "code",
      "execution_count": 16,
      "metadata": {
        "id": "KLTEul79jsC-"
      },
      "outputs": [],
      "source": [
        "def evaluateModel(pathToData, model_dir):\n",
        "    \"\"\"\n",
        "    Evaluate a model using the provided test data and save evaluation results to the model directory.\n",
        "\n",
        "    :param pathToData: Path to the test data in JSON format.\n",
        "    :param model_dir: Directory where the evaluation results will be saved.\n",
        "    \"\"\"\n",
        "    # Set the path to the test data (this line seems redundant as the pathToData parameter is not used)\n",
        "    path_to_data = \"./data/test_data.json\"\n",
        "\n",
        "    # Check if the \"evaluation\" directory exists within the model directory, create it if not\n",
        "    if not os.path.exists(model_dir + \"/evaluation\"):\n",
        "        os.mkdir(model_dir + \"/evaluation\")\n",
        "        print(\"Directory 'evaluation' Created\")\n",
        "\n",
        "    # Define paths for saving evaluation results\n",
        "    errors_path = model_dir + \"/evaluation/errors.json\"\n",
        "    confmat_path = model_dir + \"/evaluation/confmat\"\n",
        "    intent_hist_path = model_dir + \"/evaluation/hist\"\n",
        "\n",
        "    # Run the evaluation with the provided test data and save results to the specified paths\n",
        "    run_evaluation(\n",
        "        path_to_data,  # Path to the test data (seems to be hard-coded and not based on the 'pathToData' parameter)\n",
        "        model_dir,\n",
        "        errors_filename=errors_path,\n",
        "        confmat_filename=confmat_path,\n",
        "        intent_hist_filename=intent_hist_path\n",
        "    )\n"
      ]
    },
    {
      "cell_type": "code",
      "execution_count": 28,
      "metadata": {
        "collapsed": true,
        "id": "5eiBbBGYjsC_",
        "jupyter": {
          "outputs_hidden": true
        },
        "outputId": "2666062d-2d13-41e3-dc21-7860c21362cf",
        "tags": []
      },
      "outputs": [
        {
          "name": "stderr",
          "output_type": "stream",
          "text": [
            "Epochs: 100%|██████████| 300/300 [00:01<00:00, 236.92it/s, loss=0.082, acc=1.000]\n"
          ]
        },
        {
          "name": "stdout",
          "output_type": "stream",
          "text": [
            "The training took  0.03191545009613037  mins for execution\n",
            "d:\\PROJECTS\\rasa-nlu-chatbot\\modular_code\\modular_code\\./models/current/./Tensorflow_embedings_model\\default\\model_20230210-093402\n",
            "Directory  evaluation  Created \n",
            "INFO:tensorflow:Restoring parameters from d:\\PROJECTS\\rasa-nlu-chatbot\\modular_code\\modular_code\\./models/current/./Tensorflow_embedings_model\\default\\model_20230210-093402\\component_4_EmbeddingIntentClassifier.ckpt\n"
          ]
        },
        {
          "name": "stderr",
          "output_type": "stream",
          "text": [
            "100%|██████████| 8/8 [00:00<00:00, 196.55it/s]\n"
          ]
        },
        {
          "data": {
            "image/png": "[encoded data removed]",
            "text/plain": [
              "<Figure size 1440x1440 with 2 Axes>"
            ]
          },
          "metadata": {
            "needs_background": "light"
          },
          "output_type": "display_data"
        },
        {
          "data": {
            "image/png": "[encoded data removed]",
            "text/plain": [
              "<Figure size 720x720 with 1 Axes>"
            ]
          },
          "metadata": {
            "needs_background": "light"
          },
          "output_type": "display_data"
        }
      ],
      "source": [
        "# Record the start time before training the model\n",
        "start = time.time()\n",
        "\n",
        "# Train the model using the specified pipeline configuration and save it to the specified model directory\n",
        "model_dir = trainModel(\"./data/Tensorflow.config.yml\", \"./Tensorflow_embedings_model\")\n",
        "\n",
        "# Record the end time after training the model\n",
        "end = time.time()\n",
        "\n",
        "# Calculate and print the time taken for training in minutes\n",
        "print(\"The training took \", (end - start) / 60, \" mins for execution\")\n",
        "\n",
        "# Print the path to the trained model directory\n",
        "print(model_dir)\n",
        "\n",
        "# Evaluate the trained model using test data\n",
        "evaluateModel(\"548_training_examples\", model_dir)\n"
      ]
    },
    {
      "cell_type": "code",
      "execution_count": 29,
      "metadata": {
        "collapsed": true,
        "id": "_zKp6g71jsC_",
        "jupyter": {
          "outputs_hidden": true
        },
        "outputId": "0ddf714c-04c0-4fce-e6d0-163603752601",
        "tags": []
      },
      "outputs": [
        {
          "name": "stdout",
          "output_type": "stream",
          "text": [
            "Fitting 2 folds for each of 6 candidates, totalling 12 fits\n",
            "The training took  0.009190050760904948  mins for execution\n",
            "d:\\PROJECTS\\rasa-nlu-chatbot\\modular_code\\modular_code\\./models/current/Spacy_model\\default\\model_20230210-093412\n",
            "Directory  evaluation  Created \n"
          ]
        },
        {
          "name": "stderr",
          "output_type": "stream",
          "text": [
            "[Parallel(n_jobs=1)]: Using backend SequentialBackend with 1 concurrent workers.\n",
            "[Parallel(n_jobs=1)]: Done  12 out of  12 | elapsed:    0.0s finished\n",
            "100%|██████████| 8/8 [00:00<00:00, 90.39it/s]\n"
          ]
        },
        {
          "data": {
            "image/png": "[encoded data removed]",
            "text/plain": [
              "<Figure size 1440x1440 with 2 Axes>"
            ]
          },
          "metadata": {
            "needs_background": "light"
          },
          "output_type": "display_data"
        },
        {
          "data": {
            "image/png": "[encoded data removed]",
            "text/plain": [
              "<Figure size 720x720 with 1 Axes>"
            ]
          },
          "metadata": {
            "needs_background": "light"
          },
          "output_type": "display_data"
        }
      ],
      "source": [
        "# Record the start time before training the model\n",
        "start = time.time()\n",
        "\n",
        "# Train the model using the specified Spacy pipeline configuration and save it to the \"Spacy_model\" directory\n",
        "model_dir = trainModel(\"./data/spacy_config.yml\", \"Spacy_model\")\n",
        "\n",
        "# Record the end time after training the model\n",
        "end = time.time()\n",
        "\n",
        "# Calculate and print the time taken for training in minutes\n",
        "print(\"The training took \", (end - start) / 60, \" mins for execution\")\n",
        "\n",
        "# Print the path to the trained model directory\n",
        "print(model_dir)\n",
        "\n",
        "# Evaluate the trained Spacy model using test data in the \"548_training_examples\" dataset\n",
        "evaluateModel(\"548_training_examples\", model_dir)\n"
      ]
    },
    {
      "cell_type": "code",
      "execution_count": 21,
      "metadata": {
        "id": "d5yjz_7yjsC_"
      },
      "outputs": [],
      "source": [
        "from rasa_nlu.model import Metadata, Interpreter"
      ]
    },
    {
      "cell_type": "code",
      "execution_count": 30,
      "metadata": {
        "id": "D37rBAkqjsC_"
      },
      "outputs": [],
      "source": [
        "# Load the trained model from the specified model directory\n",
        "model_directory = \"./models/current/Spacy_model/default/model_20230210-091453\"\n",
        "interpreter = Interpreter.load(model_directory)\n"
      ]
    },
    {
      "cell_type": "code",
      "execution_count": 31,
      "metadata": {
        "id": "OyT8OIEajsDA",
        "outputId": "17c69633-b165-41da-b050-3a7ce7de18f2"
      },
      "outputs": [
        {
          "name": "stdout",
          "output_type": "stream",
          "text": [
            "{'intent': {'name': 'product_info', 'confidence': 0.9102788810425014}, 'entities': [{'start': 22, 'end': 32, 'value': 'television', 'entity': 'product', 'confidence': 0.9748137087549501, 'extractor': 'CRFEntityExtractor'}], 'intent_ranking': [{'name': 'product_info', 'confidence': 0.9102788810425014}, {'name': 'ask_price', 'confidence': 0.04567811423351092}, {'name': 'cancel_order', 'confidence': 0.0440430047239876}], 'text': 'Can you tell me about television'}\n"
          ]
        }
      ],
      "source": [
        "print(interpreter.parse('Can you tell me about television'))"
      ]
    },
    {
      "cell_type": "code",
      "execution_count": 32,
      "metadata": {
        "id": "72YKVICZjsDA",
        "outputId": "3be60e49-7313-4954-fe35-5579b236f9c0"
      },
      "outputs": [
        {
          "name": "stdout",
          "output_type": "stream",
          "text": [
            "{'intent': {'name': 'product_info', 'confidence': 0.8206934308624474}, 'entities': [{'start': 10, 'end': 16, 'value': 'canada', 'entity': 'location', 'confidence': 0.9052570743457238, 'extractor': 'CRFEntityExtractor'}], 'intent_ranking': [{'name': 'product_info', 'confidence': 0.8206934308624474}, {'name': 'ask_price', 'confidence': 0.10192392216643048}, {'name': 'cancel_order', 'confidence': 0.07738264697112239}], 'text': 'i live in Canada'}\n"
          ]
        }
      ],
      "source": [
        "print(interpreter.parse('i live in Canada'))"
      ]
    },
    {
      "cell_type": "code",
      "execution_count": 33,
      "metadata": {
        "id": "t0EkNB_HjsDA"
      },
      "outputs": [],
      "source": [
        "# connecting with MongoDB\n",
        "from pymongo import MongoClient"
      ]
    },
    {
      "cell_type": "code",
      "execution_count": 34,
      "metadata": {
        "id": "UtVCDybDjsDA"
      },
      "outputs": [],
      "source": [
        "from pymongo import MongoClient\n",
        "import requests\n",
        "\n",
        "class IntentFlow:\n",
        "    def __init__(self, client_id):\n",
        "        \"\"\"\n",
        "        Initialize the IntentFlow class.\n",
        "\n",
        "        :param client_id: Client ID used to store intent flow per client.\n",
        "        \"\"\"\n",
        "        # Connect to the MongoDB client on 'localhost' and port '27017'.\n",
        "        self.mongo_client = MongoClient('localhost:27017')\n",
        "        \n",
        "        # Select the 'chatflowdb' database.\n",
        "        self.db = self.mongo_client.chatflowdb\n",
        "        \n",
        "        # Access the 'chatflow' collection within the database.\n",
        "        self.intent_table = self.db['chatflow']\n",
        "        \n",
        "        # Store the client ID for future use.\n",
        "        self.client_id = client_id\n",
        "\n",
        "    def add_flows(self, flow):\n",
        "        \"\"\"\n",
        "        Insert a specified flow per client.\n",
        "\n",
        "        :param flow: Flow to be inserted.\n",
        "        :return: None\n",
        "        \"\"\"\n",
        "        self.intent_table.insert_one({\n",
        "            \"client_id\": self.client_id,\n",
        "            \"flow\": flow,\n",
        "        })\n",
        "\n",
        "    def resolve_api(self, url):\n",
        "        \"\"\"\n",
        "        Resolve an API by making a GET request to the provided URL and return the response.\n",
        "\n",
        "        :param url: URL to resolve as an API.\n",
        "        :return: Response from the requested API.\n",
        "        \"\"\"\n",
        "        response = requests.request(\"GET\", url)\n",
        "        return response.text\n",
        "\n",
        "    def extract_api(self, intent_name):\n",
        "        \"\"\"\n",
        "        Extract API details for a given intent name.\n",
        "\n",
        "        :param intent_name: Name of the intent for which API details are needed.\n",
        "        :return: Response from the resolved API.\n",
        "        \"\"\"\n",
        "        response = self.intent_table.find_one({\"client_id\": self.client_id, \"flow.intent\": intent_name})\n",
        "        api_url = response['flow']['api_data']['url']\n",
        "        print(api_url, \"api_url\")\n",
        "        response = self.resolve_api(api_url)\n",
        "        return response\n",
        "\n",
        "    def get_flows(self):\n",
        "        \"\"\"\n",
        "        Return all flows associated with the given client ID.\n",
        "        \"\"\"\n",
        "        response = self.intent_table.find({\"client_id\": self.client_id})\n",
        "        return list(response)\n",
        "\n",
        "    def get_slots_by_intent(self, intent_name):\n",
        "        \"\"\"\n",
        "        Return slots that need to be filled before triggering an API for a given intent.\n",
        "\n",
        "        :param intent_name: Name of the intent for which slots are needed.\n",
        "        :return: Slots that need to be filled.\n",
        "        \"\"\"\n",
        "        response = self.intent_table.find_one({\n",
        "            \"client_id\": self.client_id,\n",
        "            \"flow.intent\": intent_name\n",
        "        })\n",
        "        slots = None\n",
        "        if response:\n",
        "            slots = response['flow']['entities']\n",
        "        return slots\n",
        "\n",
        "class ContextManager:\n",
        "    def __init__(self, client_id, chat_id):\n",
        "        \"\"\"\n",
        "        Initialize the ContextManager class.\n",
        "\n",
        "        :param client_id: Client ID of the context.\n",
        "        :param chat_id: Chat ID to be stored, so the context is managed per chat window for each client.\n",
        "        \"\"\"\n",
        "        # Connect to the MongoDB client on 'localhost' and port '27017'.\n",
        "        self.mongo_client = MongoClient('localhost:27017')\n",
        "        \n",
        "        # Select the 'chatflowdb' database.\n",
        "        self.db = self.mongo_client.chatflowdb\n",
        "        \n",
        "        # Access the 'chatsession' collection within the database.\n",
        "        self.chat_session = self.db['chatsession']\n",
        "        \n",
        "        # Store the client ID and chat ID for future use.\n",
        "        self.client_id = client_id\n",
        "        self.chat_id = chat_id\n",
        "\n",
        "    def get_context(self):\n",
        "        \"\"\"\n",
        "        Return the context stored for a given chat ID.\n",
        "        \"\"\"\n",
        "        response = self.chat_session.find_one({\"chat_id\": self.chat_id})\n",
        "        return response\n",
        "\n",
        "    def update_slots(self, intent=None, entity=None):\n",
        "        \"\"\"\n",
        "        Update intent or entity for a given chat ID.\n",
        "\n",
        "        :param intent: Intent to be updated.\n",
        "        :param entity: Entity to be updated.\n",
        "        :return: None\n",
        "        \"\"\"\n",
        "        if intent:\n",
        "            self.chat_session.find_one_and_update(\n",
        "                {\"chat_id\": self.chat_id},\n",
        "                {\"$set\": {\"intent\": intent}},\n",
        "                upsert=True\n",
        "            )\n",
        "        if entity:\n",
        "            self.chat_session.find_one_and_update(\n",
        "                {\"chat_id\": self.chat_id},\n",
        "                {\"$push\": {\"entity\": entity}},\n",
        "                upsert=True\n",
        "            )\n",
        "\n",
        "    def get_filled_slots(self):\n",
        "        \"\"\"\n",
        "        Return all the filled slots in the given context for a given chat ID.\n",
        "        \"\"\"\n",
        "        response = self.chat_session.find_one({\"chat_id\": self.chat_id})\n",
        "        filled_slots = None\n",
        "        if response and \"entity\" in response:\n",
        "            filled_slots = response['entity']\n",
        "        return filled_slots\n",
        "\n",
        "    def get_slots(self, intent_name):\n",
        "        \"\"\"\n",
        "        Return slots that are not filled for a given intent.\n",
        "\n",
        "        :param intent_name: Intent name to check for not-filled slots.\n",
        "        :return: Slots that are not filled.\n",
        "        \"\"\"\n",
        "        intent_flow_obj = IntentFlow(self.client_id)\n",
        "        slots = intent_flow_obj.get_slots_by_intent(intent_name)\n",
        "\n",
        "        if slots:\n",
        "            filled_slots = self.get_filled_slots()\n",
        "            not_filled_slots = [ent for ent in slots if ent['entity'] not in filled_slots]\n",
        "            return not_filled_slots\n",
        "        else:\n",
        "            print(\"No flow found for this intent\")\n"
      ]
    },
    {
      "cell_type": "code",
      "execution_count": 35,
      "metadata": {
        "id": "sZGl8qzpjsDB"
      },
      "outputs": [],
      "source": [
        "import requests\n",
        "\n",
        "def resolve_api(url):\n",
        "    \"\"\"\n",
        "    Resolve an API by making a GET request to the specified URL and return the response in JSON format.\n",
        "\n",
        "    :param url: URL to resolve as an API.\n",
        "    :return: Response from the API in JSON format.\n",
        "    \"\"\"\n",
        "    url = \"https://dezyre.free.beeceptor.com/my/api/path\"\n",
        "    response = requests.request(\"GET\", url)\n",
        "    return response.json()\n",
        "\n",
        "def process_message(message, client_id, chat_id):\n",
        "    \"\"\"\n",
        "    Process a chat message from the user using a ML model.\n",
        "\n",
        "    :param message: Chat message to be processed by the ML models.\n",
        "    :param client_id: Client ID.\n",
        "    :param chat_id: Chat ID for storing context.\n",
        "    :return: Response or prompt for the unfulfilled slots defined for the given intent.\n",
        "    \"\"\"\n",
        "    # Take the chat message and predict it using Rasa NLU pipeline\n",
        "    response = interpreter.parse(message)\n",
        "    print(response, \"response from Rasa\")\n",
        "    intent_pred = response['intent']['name']\n",
        "    intent_conf = response['intent']['confidence']\n",
        "\n",
        "    intent = None\n",
        "    if intent_conf > 0.90:\n",
        "        intent = intent_pred\n",
        "\n",
        "    entities_pred = response['entities']\n",
        "\n",
        "    context_manager = ContextManager(client_id, chat_id)\n",
        "\n",
        "    # Check if there is an existing intent\n",
        "    try:\n",
        "        context = context_manager.get_context()\n",
        "        print(context, \"got context as this\")\n",
        "        if \"intent\" in context.keys():\n",
        "            intent_context = context['intent']\n",
        "            print(intent_context, \"intent_context\")\n",
        "            print(intent, \"intent predicted\")\n",
        "            if intent_context == intent:\n",
        "                intent = intent_context\n",
        "            else:\n",
        "                if intent:\n",
        "                    return \"Do you want to change the intent?\"\n",
        "                else:\n",
        "                    # It means there is no intent now, so we will continue with the intent in context\n",
        "                    intent = intent_context\n",
        "    except:\n",
        "        # No context has been saved yet for this chat yet\n",
        "        print(\"updating context as intent\", intent)\n",
        "        if intent:\n",
        "            context_manager.update_slots(intent=intent)\n",
        "\n",
        "    if entities_pred:\n",
        "        for each_ent in entities_pred:\n",
        "            entity = each_ent['entity']\n",
        "            value = each_ent['value']\n",
        "            conf = each_ent['confidence']\n",
        "            if conf > 0.60:\n",
        "                context_manager.update_slots(entity=entity)\n",
        "\n",
        "    response = context_manager.get_slots(intent)\n",
        "    if response:\n",
        "        prompt_question = response[0]['prompt']\n",
        "        return prompt_question\n",
        "    else:\n",
        "        intent_obj = IntentFlow(client_id)\n",
        "        response = intent_obj.extract_api(intent)\n",
        "        return response\n"
      ]
    },
    {
      "cell_type": "code",
      "execution_count": 36,
      "metadata": {
        "id": "5jY8b37GjsDB"
      },
      "outputs": [],
      "source": [
        "chat_id=\"0036\"\n",
        "client_id=4"
      ]
    },
    {
      "cell_type": "code",
      "execution_count": 37,
      "metadata": {
        "id": "hkFoNrFMjsDB"
      },
      "outputs": [],
      "source": [
        "message = \"Can you tell me about television ?\""
      ]
    },
    {
      "cell_type": "code",
      "execution_count": null,
      "metadata": {
        "id": "gROYa1XOjsDB",
        "outputId": "28fe29bf-1003-4679-aa99-a3105f15a34f"
      },
      "outputs": [],
      "source": [
        "process_message(message,client_id,chat_id)"
      ]
    },
    {
      "cell_type": "code",
      "execution_count": null,
      "metadata": {
        "id": "lLwH1hpOjsDB"
      },
      "outputs": [],
      "source": [
        "message = \"i live in Canada \""
      ]
    },
    {
      "cell_type": "code",
      "execution_count": null,
      "metadata": {
        "id": "twmXslrnjsDC",
        "outputId": "4ede6a1a-e212-4873-90c3-bac87d2167a0"
      },
      "outputs": [],
      "source": [
        "process_message(message,client_id,chat_id)"
      ]
    },
    {
      "cell_type": "markdown",
      "metadata": {
        "id": "3ZXNE7AnjsDC"
      },
      "source": [
        " we basically have 3 types of intent\n",
        "\n",
        "1) product_info :Depends on these entities : [product,location]\n",
        "\n",
        "2) ask_price :Depends on these entities : [product,location]\n",
        "\n",
        "3) cancel_order :Depends on these entities : [order_id]\n"
      ]
    },
    {
      "cell_type": "code",
      "execution_count": null,
      "metadata": {
        "id": "8UJtX_B4jsDC"
      },
      "outputs": [],
      "source": [
        "flow_1={\n",
        "    \"intent\":\"product_info\",\n",
        "    \"entities\":[\n",
        "        {\"entity\":\"product\",\"prompt\":\"can you please enter what are you searching ?\"},\n",
        "        {\"entity\":\"location\",\"prompt\":\"Please enter your location ?\"}\n",
        "    ],\n",
        "    \"api_data\":{\n",
        "        \"url\":\"https://dezyre.free.beeceptor.com/my/api/path\",\n",
        "            }\n",
        "    }\n",
        "\n",
        "flow_2 = {\n",
        "    \"intent\":\"ask_price\",\n",
        "     \"entities\":[\n",
        "        {\"entity\":\"product\",\"prompt\":\"can you please enter what are you searching ?\"},\n",
        "        {\"entity\":\"location\",\"prompt\":\"Please enter your location ?\"}\n",
        "    ],\n",
        "       \"api_data\":{\n",
        "        \"url\":\"https://dezyre.free.beeceptor.com/my/api/path\",\n",
        "            }\n",
        "    }\n",
        "\n",
        "flow_3 = {\n",
        "    \"intent\":\"ask_price\",\n",
        "     \"entities\":[\n",
        "        {\"entity\":\"order_id\",\"prompt\":\"Please enter your order id ?\"},\n",
        "    ],\n",
        "       \"api_data\":{\n",
        "        \"url\":\"https://dezyre.free.beeceptor.com/my/api/path\",\n",
        "            }\n",
        "    }"
      ]
    },
    {
      "cell_type": "code",
      "execution_count": null,
      "metadata": {
        "id": "4DxUVYLdjsDC"
      },
      "outputs": [],
      "source": [
        "intent_flow_obj=IntentFlow(client_id)\n",
        "intent_flow_obj.add_flows(flow_1)\n",
        "intent_flow_obj.add_flows(flow_2)\n",
        "intent_flow_obj.add_flows(flow_3)"
      ]
    },
    {
      "cell_type": "code",
      "execution_count": null,
      "metadata": {
        "id": "VLXnbW-SjsDC",
        "outputId": "468a5281-4fd3-46c4-cbec-313d181bb4a0"
      },
      "outputs": [
        {
          "data": {
            "text/plain": [
              "[{'entity': 'product',\n",
              "  'prompt': 'can you please enter what are you searching ?'},\n",
              " {'entity': 'location', 'prompt': 'Please enter your location ?'}]"
            ]
          },
          "execution_count": 72,
          "metadata": {
            "tags": []
          },
          "output_type": "execute_result"
        }
      ],
      "source": [
        "intent_flow_obj.get_slots_by_intent(\"product_info\")"
      ]
    },
    {
      "cell_type": "markdown",
      "metadata": {},
      "source": [
        "---"
      ]
    },
    {
      "cell_type": "markdown",
      "metadata": {},
      "source": []
    }
  ],
  "metadata": {
    "colab": {
      "name": "rasa_chatbot.ipynb",
      "provenance": []
    },
    "kernelspec": {
      "display_name": "env36",
      "language": "python",
      "name": "python3"
    },
    "language_info": {
      "codemirror_mode": {
        "name": "ipython",
        "version": 3
      },
      "file_extension": ".py",
      "mimetype": "text/x-python",
      "name": "python",
      "nbconvert_exporter": "python",
      "pygments_lexer": "ipython3",
      "version": "3.6.4"
    },
    "vscode": {
      "interpreter": {
        "hash": "d0e43caa9a9a526f602fa2aa7fed5094a60e67f6e6ee07f0faf82b3adab8f9f5"
      }
    }
  },
  "nbformat": 4,
  "nbformat_minor": 0
}
